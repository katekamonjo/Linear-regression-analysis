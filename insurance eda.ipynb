{
  "metadata": {
    "language_info": {
      "codemirror_mode": {
        "name": "python",
        "version": 3
      },
      "file_extension": ".py",
      "mimetype": "text/x-python",
      "name": "python",
      "nbconvert_exporter": "python",
      "pygments_lexer": "ipython3",
      "version": "3.8"
    },
    "kernelspec": {
      "name": "python",
      "display_name": "Python (Pyodide)",
      "language": "python"
    }
  },
  "nbformat_minor": 4,
  "nbformat": 4,
  "cells": [
    {
      "cell_type": "code",
      "source": "import pandas as pd\nimport numpy as np\nimport pandas_profiling as pdp\nimport matplotlib.pyplot as plt\nimport seaborn as sns",
      "metadata": {},
      "execution_count": null,
      "outputs": []
    },
    {
      "cell_type": "code",
      "source": "data=pd.read_csv('data/insurance_data.csv')",
      "metadata": {},
      "execution_count": null,
      "outputs": []
    },
    {
      "cell_type": "code",
      "source": "data.head()",
      "metadata": {},
      "execution_count": null,
      "outputs": []
    },
    {
      "cell_type": "code",
      "source": "data.info()",
      "metadata": {},
      "execution_count": null,
      "outputs": []
    },
    {
      "cell_type": "code",
      "source": "<class 'pandas.core.frame.DataFrame'>\nRangeIndex: 1338 entries, 0 to 1337\nColumns: 7 entries, Age to Charges\nID    Column      Non-null count  Dtype\n---   ------      -------------   -----\n0     age         1338 non-null   int64\n1     sex         1338 non-null   object\n2     bmi         1338 non-null   float64\n3     children    1338 non-null   int64\n4     smoker      1338 non-null   object\n5     region      1338 non-null   object\n6     charges     1338 non-null   float64\ndtypes: float64(2), int64(2), object(3)\nmemory usage: 73.3+KB",
      "metadata": {},
      "execution_count": null,
      "outputs": []
    },
    {
      "cell_type": "code",
      "source": "describe()\n        age          bmi          children     charges\ncount   1338.000000  1338.000000  1338.000000  1338.000000\nmean    39.207025    30.663397    1.094918     13270.422265\nstd     14.049960    6.098187     1.205493     12110.011237\nmin     18.000000    15.960000    0.000000     1121.873900\n25%     27.000000    26.296250    0.000000     4740.287150\n50%     39.000000    30.400000    1.000000     9382.033000\nmax     64.000000    53.130000    5.000000     63770.428010",
      "metadata": {},
      "execution_count": null,
      "outputs": []
    },
    {
      "cell_type": "code",
      "source": "value_counts()\nmale 676\nfemale 662\nName: sex, dtype: int64\nno 1064\nyes 274\nName: smoker, dtype: int64\nsoutheast 364\nnorthwest 325\nsouthwest 325\nnortheast 324\nName: region, dtype: int64",
      "metadata": {},
      "execution_count": null,
      "outputs": []
    }
  ]
}